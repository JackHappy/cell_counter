{
 "cells": [
  {
   "cell_type": "markdown",
   "metadata": {},
   "source": [
    "Inspiration/tutorial: https://www.youtube.com/watch?v=PyjBd7IDYZs"
   ]
  },
  {
   "cell_type": "markdown",
   "metadata": {},
   "source": [
    "### Goal\n",
    "\n",
    "Plug the USB camera into the double header microscope, press a button and have it count Ki-67 percentage.\n",
    "\n",
    "Motivation: Current Ki-67 is 'imprecise'\n",
    "\n",
    "Plan\n",
    "- USB camera in double header, connected to laptop.\n",
    "- Laptop reads camera feed with openCV\n",
    "- Apply filters to create an image with only ki-67 positive cells and an image that only shows non-ki-67 cells\n",
    "    - Filters are going to be using YOLOv2\n",
    "- Apply a counter for each of the images\n",
    "- Determine percentage\n",
    "- Evaluate manually to determine if more effective than current standard of practice.\n",
    "\n",
    "Software:\n",
    "- Python \n",
    "- TensorFlow \n",
    "- openCV\n",
    "\n",
    "Network\n",
    "- Weights from YOLOv2 from:https://pjreddie.com/darknet/yolov2/\n",
    "    - Note that yolov3 is available to try"
   ]
  },
  {
   "cell_type": "markdown",
   "metadata": {},
   "source": [
    "# SETUP:\n",
    "\n",
    "#### Create new environement\n",
    "```pipenv --python 3.6``` (3.6.4)\n",
    "\n",
    "#### Active environment\n",
    "```pipenv shell```\n",
    "\n",
    "#### Installations\n",
    "```pipenv install opencv-python``` (3.4.2.16)\n",
    "\n",
    "```pipenv install tensorflow``` (1.9.0)\n",
    "\n",
    "```pipenv install ipykernel``` (4.8.2)\n",
    "\n",
    "#### Create a new kernel for your environment\n",
    "```ipython kernel install --user --name=vision_microscope```\n",
    "\n",
    "```jupyter notebook``` --> then go 'kernel' -> 'change kernel' -> 'vision_microscope'\n"
   ]
  },
  {
   "cell_type": "code",
   "execution_count": 1,
   "metadata": {},
   "outputs": [],
   "source": [
    "# Modules\n",
    "\n",
    "import numpy as np\n",
    "import cv2\n",
    "import tensorflow as tf\n",
    "\n",
    "\n"
   ]
  },
  {
   "cell_type": "markdown",
   "metadata": {},
   "source": [
    "# Hardware integration"
   ]
  },
  {
   "cell_type": "code",
   "execution_count": 3,
   "metadata": {},
   "outputs": [
    {
     "name": "stdout",
     "output_type": "stream",
     "text": [
      "2018-07-22 21:07:26.579 system_profiler[4283:47504] SPUSBDevice: IOCreatePlugInInterfaceForService failed 0xe00002be\n",
      "USB:\n",
      "\n",
      "    USB 3.0 Bus:\n",
      "\n",
      "      Host Controller Driver: AppleUSBXHCISPT\n",
      "      PCI Device ID: 0xa12f \n",
      "      PCI Revision ID: 0x0031 \n",
      "      PCI Vendor ID: 0x8086 \n",
      "\n",
      "        iBridge:\n",
      "\n",
      "          Product ID: 0x8600\n",
      "          Vendor ID: 0x05ac (Apple Inc.)\n",
      "          Version: 1.01\n",
      "          Manufacturer: Apple Inc.\n",
      "          Location ID: 0x14200000\n",
      "\n",
      "    USB 3.1 Bus:\n",
      "\n",
      "      Host Controller Driver: AppleUSBXHCIAR\n",
      "      PCI Device ID: 0x15d4 \n",
      "      PCI Revision ID: 0x0002 \n",
      "      PCI Vendor ID: 0x8086 \n",
      "      Bus Number: 0x01 \n",
      "\n",
      "    USB 3.1 Bus:\n",
      "\n",
      "      Host Controller Driver: AppleUSBXHCIAR\n",
      "      PCI Device ID: 0x15d4 \n",
      "      PCI Revision ID: 0x0002 \n",
      "      PCI Vendor ID: 0x8086 \n",
      "      Bus Number: 0x00 \n",
      "\n"
     ]
    }
   ],
   "source": [
    "# Determine what hardware is connected\n",
    "!system_profiler SPUSBDataType"
   ]
  },
  {
   "cell_type": "code",
   "execution_count": 8,
   "metadata": {},
   "outputs": [],
   "source": [
    "usb_camera_id = 0 # zero, one, two, three, who knows. I like one\n",
    "# usually 1 for USB cam, 0 for isight cam"
   ]
  },
  {
   "cell_type": "code",
   "execution_count": 11,
   "metadata": {},
   "outputs": [
    {
     "ename": "KeyboardInterrupt",
     "evalue": "",
     "output_type": "error",
     "traceback": [
      "\u001b[0;31m---------------------------------------------------------------------------\u001b[0m",
      "\u001b[0;31mKeyboardInterrupt\u001b[0m                         Traceback (most recent call last)",
      "\u001b[0;32m<ipython-input-11-9a1b899b86ef>\u001b[0m in \u001b[0;36m<module>\u001b[0;34m()\u001b[0m\n\u001b[1;32m     12\u001b[0m     \u001b[0;31m# Display the resulting frame\u001b[0m\u001b[0;34m\u001b[0m\u001b[0;34m\u001b[0m\u001b[0m\n\u001b[1;32m     13\u001b[0m     \u001b[0mcv2\u001b[0m\u001b[0;34m.\u001b[0m\u001b[0mimshow\u001b[0m\u001b[0;34m(\u001b[0m\u001b[0;34m'frame'\u001b[0m\u001b[0;34m,\u001b[0m\u001b[0mgray\u001b[0m\u001b[0;34m)\u001b[0m\u001b[0;34m\u001b[0m\u001b[0m\n\u001b[0;32m---> 14\u001b[0;31m     \u001b[0;32mif\u001b[0m \u001b[0mcv2\u001b[0m\u001b[0;34m.\u001b[0m\u001b[0mwaitKey\u001b[0m\u001b[0;34m(\u001b[0m\u001b[0;36m1\u001b[0m\u001b[0;34m)\u001b[0m \u001b[0;34m&\u001b[0m \u001b[0;36m0xFF\u001b[0m \u001b[0;34m==\u001b[0m \u001b[0mord\u001b[0m\u001b[0;34m(\u001b[0m\u001b[0;34m'q'\u001b[0m\u001b[0;34m)\u001b[0m\u001b[0;34m:\u001b[0m\u001b[0;34m\u001b[0m\u001b[0m\n\u001b[0m\u001b[1;32m     15\u001b[0m         \u001b[0;32mbreak\u001b[0m\u001b[0;34m\u001b[0m\u001b[0m\n\u001b[1;32m     16\u001b[0m \u001b[0;34m\u001b[0m\u001b[0m\n",
      "\u001b[0;31mKeyboardInterrupt\u001b[0m: "
     ]
    }
   ],
   "source": [
    "\n",
    "\n",
    "cap = cv2.VideoCapture(usb_camera_id)\n",
    "\n",
    "while(True):\n",
    "    # Capture frame-by-frame\n",
    "    ret, frame = cap.read()\n",
    "\n",
    "    # Our operations on the frame come here\n",
    "    gray = cv2.cvtColor(frame, cv2.COLOR_BGR2BGRA)    #BGR2GRAY for greyscale\n",
    "    \n",
    "    # Display the resulting frame\n",
    "    cv2.imshow('frame',gray)\n",
    "    if cv2.waitKey(1) & 0xFF == ord('q'):\n",
    "        break\n",
    "\n",
    "# When everything done, release the capture\n",
    "cap.release()\n",
    "cv2.destroyAllWindows()"
   ]
  },
  {
   "cell_type": "markdown",
   "metadata": {},
   "source": [
    "# Image manipulation with OpenCV"
   ]
  },
  {
   "cell_type": "code",
   "execution_count": 4,
   "metadata": {},
   "outputs": [
    {
     "ename": "error",
     "evalue": "OpenCV(3.4.1) /Users/travis/build/skvark/opencv-python/opencv/modules/imgproc/src/color.cpp:11214: error: (-215) (scn == 3 || scn == 4) && (depth == 0 || depth == 5) in function cvtColor\n",
     "output_type": "error",
     "traceback": [
      "\u001b[0;31m---------------------------------------------------------------------------\u001b[0m",
      "\u001b[0;31merror\u001b[0m                                     Traceback (most recent call last)",
      "\u001b[0;32m<ipython-input-4-e16f8a251168>\u001b[0m in \u001b[0;36m<module>\u001b[0;34m()\u001b[0m\n\u001b[1;32m      2\u001b[0m \u001b[0;34m\u001b[0m\u001b[0m\n\u001b[1;32m      3\u001b[0m \u001b[0mimg\u001b[0m \u001b[0;34m=\u001b[0m \u001b[0mcv2\u001b[0m\u001b[0;34m.\u001b[0m\u001b[0mimread\u001b[0m\u001b[0;34m(\u001b[0m\u001b[0;34m'kitten.png'\u001b[0m\u001b[0;34m)\u001b[0m\u001b[0;34m\u001b[0m\u001b[0m\n\u001b[0;32m----> 4\u001b[0;31m \u001b[0mhsv\u001b[0m \u001b[0;34m=\u001b[0m \u001b[0mcv2\u001b[0m\u001b[0;34m.\u001b[0m\u001b[0mcvtColor\u001b[0m\u001b[0;34m(\u001b[0m\u001b[0mimg\u001b[0m\u001b[0;34m,\u001b[0m \u001b[0mcv2\u001b[0m\u001b[0;34m.\u001b[0m\u001b[0mCOLOR_BGR2HSV\u001b[0m\u001b[0;34m)\u001b[0m\u001b[0;34m\u001b[0m\u001b[0m\n\u001b[0m\u001b[1;32m      5\u001b[0m \u001b[0;34m\u001b[0m\u001b[0m\n\u001b[1;32m      6\u001b[0m \u001b[0mlower_green\u001b[0m \u001b[0;34m=\u001b[0m \u001b[0mnp\u001b[0m\u001b[0;34m.\u001b[0m\u001b[0marray\u001b[0m\u001b[0;34m(\u001b[0m\u001b[0;34m[\u001b[0m\u001b[0;36m0\u001b[0m\u001b[0;34m,\u001b[0m\u001b[0;36m0\u001b[0m\u001b[0;34m,\u001b[0m \u001b[0;36m150\u001b[0m\u001b[0;34m]\u001b[0m\u001b[0;34m)\u001b[0m\u001b[0;34m\u001b[0m\u001b[0m\n",
      "\u001b[0;31merror\u001b[0m: OpenCV(3.4.1) /Users/travis/build/skvark/opencv-python/opencv/modules/imgproc/src/color.cpp:11214: error: (-215) (scn == 3 || scn == 4) && (depth == 0 || depth == 5) in function cvtColor\n"
     ]
    }
   ],
   "source": [
    "# load an image and modify with a mask\n",
    "img = cv2.imread('kitten.png')\n",
    "hsv = cv2.cvtColor(img, cv2.COLOR_BGR2HSV)\n",
    "\n",
    "lower_green = np.array([0,0, 150])\n",
    "upper_green = np.array([255, 255, 255])\n",
    "\n",
    "mask = cv2.inRange(hsv, lower_green, upper_green)\n",
    "res = cv2.bitwise_and(img, img, mask=mask)\n",
    "\n",
    "cv2.imshow('res1.png', res)\n",
    "cv2.waitKey(0)"
   ]
  },
  {
   "cell_type": "code",
   "execution_count": null,
   "metadata": {},
   "outputs": [],
   "source": []
  }
 ],
 "metadata": {
  "kernelspec": {
   "display_name": "vision_microscope",
   "language": "python",
   "name": "vision_microscope"
  },
  "language_info": {
   "codemirror_mode": {
    "name": "ipython",
    "version": 3
   },
   "file_extension": ".py",
   "mimetype": "text/x-python",
   "name": "python",
   "nbconvert_exporter": "python",
   "pygments_lexer": "ipython3",
   "version": "3.6.4"
  }
 },
 "nbformat": 4,
 "nbformat_minor": 2
}
